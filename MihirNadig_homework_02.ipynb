{
  "cells": [
    {
      "cell_type": "markdown",
      "metadata": {
        "id": "AuZulEoBBlB4"
      },
      "source": [
        "# Homework 2\n",
        "\n",
        "\n",
        "## References\n",
        "\n",
        "+ Lectures 3-6 (inclusive).\n",
        "\n",
        "## Instructions\n",
        "\n",
        "+ Type your name and email in the \"Student details\" section below.\n",
        "+ Develop the code and generate the figures you need to solve the problems using this notebook.\n",
        "+ For the answers that require a mathematical proof or derivation you should type them using latex. If you have never written latex before and you find it exceedingly difficult, we will likely accept handwritten solutions.\n",
        "+ The total homework points are 100. Please note that the problems are not weighed equally."
      ]
    },
    {
      "cell_type": "code",
      "execution_count": null,
      "metadata": {
        "tags": [
          "hide-input"
        ],
        "id": "431FgA8_BlB5"
      },
      "outputs": [],
      "source": [
        "import numpy as np\n",
        "np.set_printoptions(precision=3)\n",
        "import matplotlib.pyplot as plt\n",
        "%matplotlib inline\n",
        "import seaborn as sns\n",
        "sns.set(rc={\"figure.dpi\":100, \"savefig.dpi\":300})\n",
        "sns.set_context(\"notebook\")\n",
        "sns.set_style(\"ticks\")\n",
        "\n",
        "import scipy\n",
        "import scipy.stats as st\n",
        "import urllib.request\n",
        "import os\n",
        "\n",
        "def download(\n",
        "    url : str,\n",
        "    local_filename : str = None\n",
        "):\n",
        "    \"\"\"Download a file from a url.\n",
        "    \n",
        "    Arguments\n",
        "    url            -- The url we want to download.\n",
        "    local_filename -- The filemame to write on. If not\n",
        "                      specified \n",
        "    \"\"\"\n",
        "    if local_filename is None:\n",
        "        local_filename = os.path.basename(url)\n",
        "    urllib.request.urlretrieve(url, local_filename)"
      ]
    },
    {
      "cell_type": "markdown",
      "metadata": {
        "id": "Uuj1KBbOBlB6"
      },
      "source": [
        "## Student details\n",
        "\n",
        "+ **First Name:** Mihir\n",
        "+ **Last Name:** Nadig\n",
        "+ **Email:** mnadig@purdue.edu"
      ]
    },
    {
      "cell_type": "markdown",
      "metadata": {
        "id": "mlJk8Rm8BlB7"
      },
      "source": [
        "## Problem 1 - Failure of a mechanical component\n",
        "\n",
        "Assume that you designing a gear for a mechanical system.\n",
        "Under normal operating conditions the gear is expected to fail at a random time.\n",
        "Let $T$ be a random variable capturing the time the gear fails.\n",
        "What should the probability density of $T$ look like?\n",
        "\n",
        "Here are some hypothetical data to work with.\n",
        "Suppose that we took ten gears and we worked them until failure.\n",
        "The failure times (say in years) are as follows:"
      ]
    },
    {
      "cell_type": "code",
      "execution_count": null,
      "metadata": {
        "id": "NxQxxlntBlB7"
      },
      "outputs": [],
      "source": [
        "time_to_fail_data = np.array(\n",
        "    [\n",
        "        10.5,\n",
        "        7.5,\n",
        "        8.1,\n",
        "        8.4,\n",
        "        11.2,\n",
        "        9.3,\n",
        "        8.9,\n",
        "        12.4\n",
        "    ]\n",
        ")"
      ]
    },
    {
      "cell_type": "markdown",
      "metadata": {
        "id": "rCZAjYUqBlB7"
      },
      "source": [
        "Why does each gear fail at different times?\n",
        "There are several sources of uncertainty.\n",
        "The most important are:\n",
        "\n",
        "- Manufacturing imperfections.\n",
        "- Different loading conditions.\n",
        "\n",
        "If this was a controlled fatigue experiment, then we could eliminate the second source of uncertainty by using exactly the same loading conditions.\n",
        "\n",
        "Now, we are going to fit a probability density function to these data.\n",
        "Which one should we use?\n",
        "Well, new gears do not fail easily.\n",
        "So, the probability density function of $T$ should be close to zero for small $T$.\n",
        "As time goes by, the probability density should increase because various things start happening to the material, e.g., crack formation, fatigue, etc. \n",
        "Finally, the probability density must again start going to zero as time further increases because nothing lasts forever...\n",
        "A probability distribution that is commonly used to model this situation is the [Weibull](https://en.wikipedia.org/wiki/Weibull_distribution).\n",
        "We are going to fit some fail time data to a Weibull distribution and then you will have to answer a few questions about failing times.\n",
        "\n",
        "The Weibull has parameters and we are going to fit them to the available data.\n",
        "The method we are going to use is called the *maximum likelihood method*.\n",
        "We haven't really talked about this, and it is not important to know what it is to do this homework problem.\n",
        "We will learn about maximum likelihood in later lectures.\n",
        "Here is how we fit the parameters using `scipy.stats`:"
      ]
    },
    {
      "cell_type": "code",
      "execution_count": null,
      "metadata": {
        "id": "aAxwaLUIBlB8",
        "outputId": "c529eb4f-1208-4b9b-e0b6-71f411ec14e5",
        "colab": {
          "base_uri": "https://localhost:8080/"
        }
      },
      "outputs": [
        {
          "output_type": "stream",
          "name": "stdout",
          "text": [
            "Fitted parameters: (448.066965711728, 0.7099665338918923, 3.4218808260575804, 0.41627831297126994)\n"
          ]
        }
      ],
      "source": [
        "fitted_params = st.exponweib.fit(time_to_fail_data, loc=0)\n",
        "T = st.exponweib(*fitted_params)\n",
        "print(f\"Fitted parameters: {fitted_params}\")"
      ]
    },
    {
      "cell_type": "markdown",
      "metadata": {
        "id": "C_YHUYWfBlB9"
      },
      "source": [
        "Let's plot the fitted Weibul PDF and the data we used:"
      ]
    },
    {
      "cell_type": "code",
      "execution_count": null,
      "metadata": {
        "tags": [
          "hide-input"
        ],
        "id": "QKh1iVdVBlB9",
        "outputId": "4deb434b-0b26-42fe-fd64-2e9aaab360c5",
        "colab": {
          "base_uri": "https://localhost:8080/",
          "height": 289
        }
      },
      "outputs": [
        {
          "output_type": "display_data",
          "data": {
            "text/plain": [
              "<Figure size 432x288 with 1 Axes>"
            ],
            "image/png": "[encoded data removed]"
          },
          "metadata": {
            "needs_background": "light"
          }
        }
      ],
      "source": [
        "fig, ax = plt.subplots()\n",
        "ts = np.linspace(0.0, 20.0, 100)\n",
        "ax.plot(\n",
        "    ts,\n",
        "    T.pdf(ts),\n",
        "    label=\"Fitted PDF\"\n",
        ")\n",
        "ax.plot(\n",
        "    time_to_fail_data,\n",
        "    np.zeros_like(time_to_fail_data),\n",
        "    \"x\",\n",
        "    label=\"Experimental data\"\n",
        ")\n",
        "ax.set_xlabel(r\"$t$ (years)\")\n",
        "ax.set_ylabel(r\"$p(t)$\")\n",
        "plt.legend(loc=\"best\");"
      ]
    },
    {
      "cell_type": "markdown",
      "metadata": {
        "id": "2gDmIFx4BlB-"
      },
      "source": [
        "Now you have to answer a series of questions about the random variable $T$ that we just fitted."
      ]
    },
    {
      "cell_type": "markdown",
      "metadata": {
        "id": "K9IyaiOhBlB-"
      },
      "source": [
        "A. Find the mean fail time and its variance.\n",
        "Hint: Do not integrate anything by hand. Just use the functionality of ``scipy.stats``."
      ]
    },
    {
      "cell_type": "code",
      "execution_count": null,
      "metadata": {
        "id": "j_ThneQSBlB-",
        "outputId": "fbd2fbc0-e5e0-4fc0-bbfd-30f1f845bece",
        "colab": {
          "base_uri": "https://localhost:8080/"
        }
      },
      "outputs": [
        {
          "output_type": "stream",
          "name": "stdout",
          "text": [
            "E[T] = 9.53\n",
            "V[T] = 2.88\n"
          ]
        }
      ],
      "source": [
        "# Your code here\n",
        "t_mean = T.mean() # Change me\n",
        "t_var = T.var() # Change me\n",
        "print(f\"E[T] = {t_mean:.2f}\")\n",
        "print(f\"V[T] = {t_var:.2f}\")"
      ]
    },
    {
      "cell_type": "markdown",
      "metadata": {
        "id": "shqtCtvIBlB-"
      },
      "source": [
        "B. Plot the cumulative distribution function $F(t) = P(T\\le t)$ of $T$."
      ]
    },
    {
      "cell_type": "code",
      "execution_count": null,
      "metadata": {
        "id": "atHkmyIBBlB_",
        "colab": {
          "base_uri": "https://localhost:8080/",
          "height": 301
        },
        "outputId": "7ecd1f16-777d-4141-b79f-af4b8e51def0"
      },
      "outputs": [
        {
          "output_type": "display_data",
          "data": {
            "text/plain": [
              "<Figure size 432x288 with 1 Axes>"
            ],
            "image/png": "[encoded data removed]"
          },
          "metadata": {
            "needs_background": "light"
          }
        }
      ],
      "source": [
        "# Your code here\n",
        "fig, ax = plt.subplots()\n",
        "ax.plot(ts, T.cdf(ts), lw=2)\n",
        "ax.set_xlabel(\"$x$\")\n",
        "ax.set_ylabel(\"$F(x)$\")\n",
        "ax.set_title('CDF');"
      ]
    },
    {
      "cell_type": "markdown",
      "metadata": {
        "id": "VoMuU-V2BlB_"
      },
      "source": [
        "C. Plot the probability that gear survives for more than $t$ as a function of $t$.\n",
        "That is, plot the function:\n",
        "\n",
        "$$\n",
        "S(t) = p(T > t).\n",
        "$$\n",
        "\n",
        "Hint: First connect $S(t)$ to the cumulative distribution function $F(t)$ of $T$."
      ]
    },
    {
      "cell_type": "code",
      "execution_count": null,
      "metadata": {
        "id": "up7sK4h-BlB_",
        "colab": {
          "base_uri": "https://localhost:8080/",
          "height": 285
        },
        "outputId": "e0edaa74-7a56-4e18-d268-ef3c5e55804f"
      },
      "outputs": [
        {
          "output_type": "display_data",
          "data": {
            "text/plain": [
              "<Figure size 432x288 with 1 Axes>"
            ],
            "image/png": "[encoded data removed]"
          },
          "metadata": {
            "needs_background": "light"
          }
        }
      ],
      "source": [
        "# Your code here\n",
        "# Becuase CDF represents any even less then x value. you want 1 - cdf. \n",
        "x_samples = np.linspace(0.0, 20.0, 100)\n",
        "s_t = 1 - T.cdf(x_samples)\n",
        "\n",
        "# Plotting Function S(t)\n",
        "fig, ax = plt.subplots()\n",
        "ax.plot(x_samples, s_t, lw=2)\n",
        "ax.set_xlabel(\"$t$\")\n",
        "ax.set_ylabel(\"$S(t)$\");"
      ]
    },
    {
      "cell_type": "markdown",
      "metadata": {
        "id": "d4j-Zx8gBlB_"
      },
      "source": [
        "D. Find the probability that the gear lasts anywhere between 8 and 10 years."
      ]
    },
    {
      "cell_type": "code",
      "execution_count": null,
      "metadata": {
        "id": "Wij1Y9M1BlB_",
        "colab": {
          "base_uri": "https://localhost:8080/"
        },
        "outputId": "2c5c9d57-d049-4a32-c30e-348fc1b64a2f"
      },
      "outputs": [
        {
          "output_type": "stream",
          "name": "stdout",
          "text": [
            "p(8<=x<=10) = 0.47\n"
          ]
        }
      ],
      "source": [
        "# Your code here\n",
        "# cdf(b) - cdf(a)\n",
        "a = 8 \n",
        "b = 10\n",
        "\n",
        "prob_ab = 1-( T.cdf(b)-T.cdf(a) )\n",
        "print(f'p(8<=x<=10) = {round(prob_ab, 2)}')\n",
        "\n",
        "# prob_ab_try = 1-T.cdf(a)-(1-T.cdf(b))\n",
        "# print(prob_ab_try)"
      ]
    },
    {
      "cell_type": "markdown",
      "metadata": {
        "id": "70zlI2kfBlCA"
      },
      "source": [
        "E. If you were to sell the gear, how many years \"warranty\" would you offer?\n",
        "<br>\n",
        "Hint: This is subjective. There are many correct answers.\n",
        "But as a manufacturer of the gear, you really do not want to be replacing any...\n",
        "**Answer:** <br><br>\n",
        "*5 years warranty*<br><br>\n",
        "Reasoning: Starting at the mean and subtracting the variance and then adding a 20% safety factor yielded a lifespan of 5.32. To make it a marketable number, I would use five years. Checking both these values leads to a very low probability of failure. Depending on the industry, we can increase or decrease depending on the risk aversion of the company. \n",
        "\n",
        "\n",
        "\n",
        "\n",
        "<br><br><br><br><br><br>"
      ]
    },
    {
      "cell_type": "code",
      "execution_count": null,
      "metadata": {
        "id": "mCSyqvMIBlCA",
        "colab": {
          "base_uri": "https://localhost:8080/"
        },
        "outputId": "55da263d-9002-47e9-90fb-fb8c8ed2532c"
      },
      "outputs": [
        {
          "output_type": "stream",
          "name": "stdout",
          "text": [
            "5.32\n",
            "2.468029490536843e-11\n"
          ]
        }
      ],
      "source": [
        "# Your code here\n",
        "# Calculating for manufacturing warranty\n",
        "safety = (t_mean-t_var)*(0.8)\n",
        "print(round(safety, 2))\n",
        "print(T.cdf(5.32))\n",
        "\n",
        "# (1-T.cdf(5))*100\n"
      ]
    },
    {
      "cell_type": "markdown",
      "metadata": {
        "id": "oZD8X1TLBlCA"
      },
      "source": [
        "## Problem 2 - Joint probability mass function of two discrete random variables\n",
        "\n",
        "Consider two random variables $X$ and $Y$.\n",
        "$X$ takes values $\\{0,1,\\dots,4\\}$ and $Y$ takes values $\\{0,1,\\dots,8\\}$.\n",
        "Their joint probability mass function, can be described using a matrix:"
      ]
    },
    {
      "cell_type": "code",
      "execution_count": null,
      "metadata": {
        "id": "faYBts1IBlCA"
      },
      "outputs": [],
      "source": [
        "P = np.array(\n",
        "    [\n",
        "        [0.03607908, 0.03760034, 0.00503184, 0.0205082 , 0.01051408,\n",
        "         0.03776221, 0.00131325, 0.03760817, 0.01770659],\n",
        "        [0.03750162, 0.04317351, 0.03869997, 0.03069872, 0.02176718,\n",
        "         0.04778769, 0.01021053, 0.00324185, 0.02475319],\n",
        "        [0.03770951, 0.01053285, 0.01227089, 0.0339596 , 0.02296711,\n",
        "         0.02187814, 0.01925662, 0.0196836 , 0.01996279],\n",
        "        [0.02845139, 0.01209429, 0.02450163, 0.00874645, 0.03612603,\n",
        "         0.02352593, 0.00300314, 0.00103487, 0.04071951],\n",
        "        [0.00940187, 0.04633153, 0.01094094, 0.00172007, 0.00092633,\n",
        "         0.02032679, 0.02536328, 0.03552956, 0.01107725]\n",
        "    ]\n",
        ")"
      ]
    },
    {
      "cell_type": "markdown",
      "metadata": {
        "id": "iMgWJlNtBlCA"
      },
      "source": [
        "The rows of the matrix correspond to the values of $X$ and the columns to the values of $Y$.\n",
        "So, if you wanted to find the probability of $p(X=2, Y=3)$ you would do:"
      ]
    },
    {
      "cell_type": "code",
      "execution_count": null,
      "metadata": {
        "id": "nSvRjviABlCA",
        "outputId": "ebb9733e-acc1-4c59-fbaf-5494882ff02c",
        "colab": {
          "base_uri": "https://localhost:8080/"
        }
      },
      "outputs": [
        {
          "output_type": "stream",
          "name": "stdout",
          "text": [
            "p(X=2, Y=3) = 0.034\n"
          ]
        }
      ],
      "source": [
        "print(f\"p(X=2, Y=3) = {P[2, 3]:.3f}\")"
      ]
    },
    {
      "cell_type": "markdown",
      "metadata": {
        "id": "eepCFs6KBlCB"
      },
      "source": [
        "A. Verify that all the elements of $P$ sum to one, i.e., that $\\sum_{x,y}p(X=x, Y=y) = 1$."
      ]
    },
    {
      "cell_type": "code",
      "execution_count": null,
      "metadata": {
        "id": "QjPOXj8ABlCB",
        "colab": {
          "base_uri": "https://localhost:8080/"
        },
        "outputId": "717fdd06-5dc5-44f0-b955-2fe080861255"
      },
      "outputs": [
        {
          "output_type": "stream",
          "name": "stdout",
          "text": [
            "Sum of all elements = 1.0\n"
          ]
        }
      ],
      "source": [
        "# Your code here\n",
        "sum_all = round(np.sum(P), 1)\n",
        "print(f\"Sum of all elements = {sum_all}\")"
      ]
    },
    {
      "cell_type": "markdown",
      "metadata": {
        "id": "_XmOghC8BlCB"
      },
      "source": [
        "B. Find the marginal probability density of $X$:\n",
        "\n",
        "$$\n",
        "p(x) = \\sum_{y}p(x,y).\n",
        "$$\n",
        "\n",
        "You can represent this as a 5-dimensional vector."
      ]
    },
    {
      "cell_type": "code",
      "execution_count": null,
      "metadata": {
        "id": "SP5FlyTQBlCB",
        "outputId": "fd7cb245-f2a3-4969-8d2d-7a73c67e56b8",
        "colab": {
          "base_uri": "https://localhost:8080/"
        }
      },
      "outputs": [
        {
          "output_type": "stream",
          "name": "stdout",
          "text": [
            "Marginal Pdf of X: [0.204 0.258 0.198 0.178 0.162]\n"
          ]
        }
      ],
      "source": [
        "# Hint, you can do this in one line if you read this:\n",
        "# help(np.sum)\n",
        "pdf_x = np.sum(P, axis=1)\n",
        "print(f\"Marginal Pdf of X: {pdf_x}\")\n",
        "\n",
        "# print(np.sum(pdf_x)) # Sanity Check \n"
      ]
    },
    {
      "cell_type": "markdown",
      "metadata": {
        "id": "DYX0ydseBlCB"
      },
      "source": [
        "C. Find the marginal probability density of $Y$. This is a 9-dimensional vector."
      ]
    },
    {
      "cell_type": "code",
      "execution_count": null,
      "metadata": {
        "id": "HynJixB9BlCB",
        "colab": {
          "base_uri": "https://localhost:8080/"
        },
        "outputId": "b0ebb329-fb18-4ac7-ef25-41bfff5f8988"
      },
      "outputs": [
        {
          "output_type": "stream",
          "name": "stdout",
          "text": [
            "Marginal Pdf of Y: [0.149 0.15  0.091 0.096 0.092 0.151 0.059 0.097 0.114]\n"
          ]
        }
      ],
      "source": [
        "# Your code here\n",
        "pdf_y = np.sum(P, axis = 0)\n",
        "print(f\"Marginal Pdf of Y: {pdf_y}\")\n",
        "\n",
        "# print(np.sum(pdf_y)) # Sanity Check \n"
      ]
    },
    {
      "cell_type": "markdown",
      "metadata": {
        "id": "SUpGmkxVBlCB"
      },
      "source": [
        "D. Find the expectation and variance of $X$ and $Y$."
      ]
    },
    {
      "cell_type": "code",
      "execution_count": null,
      "metadata": {
        "id": "2QRi-9uKBlCB",
        "colab": {
          "base_uri": "https://localhost:8080/"
        },
        "outputId": "66259d60-6622-47b1-e2f6-aaf5d1f0a975"
      },
      "outputs": [
        {
          "output_type": "stream",
          "name": "stdout",
          "text": [
            "E[x]: 1.84\n",
            "V[x]: 1.87\n",
            "E[y]: 3.69\n",
            "V[y]: 7.19\n"
          ]
        }
      ],
      "source": [
        "# Expectation and Variance for X \n",
        "E_x = np.sum(np.arange(5)*pdf_x)\n",
        "print(f\"E[x]: {E_x:.2f}\")\n",
        "\n",
        "E_x2 = np.sum(np.arange(5) ** 2 * pdf_x)\n",
        "V_x = E_x2 - E_x ** 2\n",
        "print(f\"V[x]: {V_x:.2f}\")\n",
        "\n",
        "# Expectation and Variance for Y\n",
        "E_y  = np.sum(np.arange(9)*pdf_y)\n",
        "print(f'E[y]: {E_y:.2f}')\n",
        "\n",
        "E_y2 = np.sum(np.arange(9) ** 2 * pdf_y)\n",
        "V_y = E_y2 - E_y ** 2\n",
        "print(f\"V[y]: {V_y:.2f}\")\n",
        "\n",
        "\n"
      ]
    },
    {
      "cell_type": "markdown",
      "metadata": {
        "id": "7_pJ2nJ5BlCB"
      },
      "source": [
        "E. Find the expectation of $E[X + Y]$."
      ]
    },
    {
      "cell_type": "code",
      "execution_count": null,
      "metadata": {
        "id": "lIU__QLRBlCB",
        "colab": {
          "base_uri": "https://localhost:8080/"
        },
        "outputId": "174a0625-a13b-420c-feba-a95fc46a7f42"
      },
      "outputs": [
        {
          "output_type": "stream",
          "name": "stdout",
          "text": [
            "E[X+Y]: 5.53\n"
          ]
        }
      ],
      "source": [
        "# E[x+y] = E[Y] + E[Y]\n",
        "E_x_plus_y = E_x + E_y\n",
        "print(f'E[X+Y]: {E_x_plus_y:.2f}')\n"
      ]
    },
    {
      "cell_type": "markdown",
      "metadata": {
        "id": "OVdjEGkyBlCC"
      },
      "source": [
        "F. Find the covariance of $X$ and $Y$. Are the two variable correlated? If yes, are they positively or negatively correlated?"
      ]
    },
    {
      "cell_type": "code",
      "execution_count": null,
      "metadata": {
        "id": "kKFYc3sRBlCC",
        "colab": {
          "base_uri": "https://localhost:8080/"
        },
        "outputId": "f5e53610-210c-48a7-b3f9-9099b0b4b878"
      },
      "outputs": [
        {
          "output_type": "stream",
          "name": "stdout",
          "text": [
            "C[X,Y]: 0.32\n",
            "As C[X,Y] >= 0, the two variables are positively correlated\n"
          ]
        }
      ],
      "source": [
        "# Solving C[X,Y]\n",
        "C_xy = 0.0\n",
        "\n",
        "for x in range(5):\n",
        "  for y in range(9):\n",
        "    C_xy += (x - E_x) * (y - E_y) * P[x,y]\n",
        "print(f\"C[X,Y]: {C_xy:.2f}\")\n",
        "print(\"As C[X,Y] >= 0, the two variables are positively correlated\")"
      ]
    },
    {
      "cell_type": "markdown",
      "metadata": {
        "id": "CKqf55GABlCC"
      },
      "source": [
        "G. Find the variance of $X + Y$."
      ]
    },
    {
      "cell_type": "code",
      "execution_count": null,
      "metadata": {
        "id": "gd6ARdokBlCC",
        "colab": {
          "base_uri": "https://localhost:8080/"
        },
        "outputId": "e00381e2-eeef-4a09-afe5-bf1afbf610b3"
      },
      "outputs": [
        {
          "output_type": "stream",
          "name": "stdout",
          "text": [
            "V[X+y]: 9.70\n"
          ]
        }
      ],
      "source": [
        "# Solving V[X+Y]\n",
        "# V[X+Y] = V[X] + V[Y] + 2C[X,Y]\n",
        "V_x_plus_y = V_x + V_y + 2*C_xy\n",
        "print(f\"V[X+y]: {V_x_plus_y:.2f}\")"
      ]
    },
    {
      "cell_type": "markdown",
      "metadata": {
        "id": "O_lf5tcmBlCC"
      },
      "source": [
        "J. Find the probability that $X+Y$ is less than or equal to 5.\n",
        "That is, find $p(X + Y \\le 5)$.\n",
        "Hint: Use two for loops to go over all the combinations of $X$ and $Y$ values, check if $X+Y\\le 5$, and sum up the probabilities."
      ]
    },
    {
      "cell_type": "code",
      "execution_count": null,
      "metadata": {
        "id": "yP43PPMlBlCC",
        "colab": {
          "base_uri": "https://localhost:8080/"
        },
        "outputId": "dbdd864a-c563-4dfe-ec09-3cafcc96625f"
      },
      "outputs": [
        {
          "output_type": "stream",
          "name": "stdout",
          "text": [
            "p[X+Y]<=5:  0.53\n"
          ]
        }
      ],
      "source": [
        "# p[X+Y]<=5\n",
        "xy_prob = 0.0\n",
        "for x in range(5):\n",
        "  for y in range(9):\n",
        "    if(x + y <= 5):\n",
        "      xy_prob += P[x,y]\n",
        "print(f\"p[X+Y]<=5:  {xy_prob:.2f}\")\n",
        "\n"
      ]
    },
    {
      "cell_type": "markdown",
      "metadata": {
        "id": "rXBRCa9bBlCC"
      },
      "source": [
        "## Problem 3 - Creating a stochastic model for the magnetic properties of steel\n",
        "\n",
        "The magnetic properties of steel are captured in the so called [$B-H$ curve](https://en.wikipedia.org/wiki/Saturation_(magnetic)) which connects the magnetic field $H$ to the magnetic flux density $B$.\n",
        "The shape of this curve depends on the manufacturing process of the steel. As a result the $B-H$ differs across different suppliers but also across time for the same supplier.\n",
        "\n",
        "Let's use some real manufacturer data to visualize these differences.\n",
        "The data are [here](https://github.com/PredictiveScienceLab/data-analytics-se/raw/master/homework/B_data.csv).\n",
        "It will take a while to explain how to upload data on Google Colab.\n",
        "We will do it in the next homework set.\n",
        "For now, you should just know that the data file ``B_data.csv`` needs to be in the same working directory as this Jupyter notebook.\n",
        "I have written a bit of code that allows you to put the data file in the right place without too much trouble.\n",
        "Simply run the following:"
      ]
    },
    {
      "cell_type": "code",
      "execution_count": null,
      "metadata": {
        "id": "FP8WrVHMBlCC"
      },
      "outputs": [],
      "source": [
        "url = \"https://github.com/PredictiveScienceLab/data-analytics-se/raw/master/lecturebook/data/B_data.csv\"\n",
        "download(url)"
      ]
    },
    {
      "cell_type": "markdown",
      "metadata": {
        "id": "HnncV26DBlCC"
      },
      "source": [
        "If everything worked well, then the following will work:"
      ]
    },
    {
      "cell_type": "code",
      "execution_count": null,
      "metadata": {
        "id": "sDAH8GHABlCD",
        "outputId": "ed0f2b7c-2274-4cf2-e109-8d8871b22aec",
        "colab": {
          "base_uri": "https://localhost:8080/"
        }
      },
      "outputs": [
        {
          "output_type": "execute_result",
          "data": {
            "text/plain": [
              "array([[0.   , 0.005, 0.019, ..., 1.793, 1.793, 1.794],\n",
              "       [0.   , 0.004, 0.014, ..., 1.837, 1.837, 1.837],\n",
              "       [0.   , 0.004, 0.014, ..., 1.776, 1.776, 1.776],\n",
              "       ...,\n",
              "       [0.   , 0.003, 0.012, ..., 1.767, 1.767, 1.767],\n",
              "       [0.   , 0.008, 0.031, ..., 1.777, 1.778, 1.778],\n",
              "       [0.   , 0.003, 0.014, ..., 1.765, 1.765, 1.765]])"
            ]
          },
          "metadata": {},
          "execution_count": 21
        }
      ],
      "source": [
        "B_data = np.loadtxt('B_data.csv')\n",
        "B_data"
      ]
    },
    {
      "cell_type": "markdown",
      "metadata": {
        "id": "egGpD76eBlCD"
      },
      "source": [
        "The shape of this dataset is:"
      ]
    },
    {
      "cell_type": "code",
      "execution_count": null,
      "metadata": {
        "id": "aShWmJr0BlCD",
        "outputId": "41090245-7632-4684-c8dd-6ff6af692c99",
        "colab": {
          "base_uri": "https://localhost:8080/"
        }
      },
      "outputs": [
        {
          "output_type": "execute_result",
          "data": {
            "text/plain": [
              "(200, 1500)"
            ]
          },
          "metadata": {},
          "execution_count": 22
        }
      ],
      "source": [
        "B_data.shape"
      ]
    },
    {
      "cell_type": "markdown",
      "metadata": {
        "id": "8Am4ZaY8BlCD"
      },
      "source": [
        "The rows (200) corresponds to different samples of the $B-H$ curves (different suppliers and different times).\n",
        "The columns (1500) corresponds to different values of $H$.\n",
        "That is, the $i, j$ element is the value of $B$ at the a specific value of $H$, say $H_j$. The values of $H$ are the equidistant and identical and we are going to ignore them in this analysis.\n",
        "Let's visualize some of the samples.\n",
        "\n",
        "Here is one sample:"
      ]
    },
    {
      "cell_type": "code",
      "execution_count": null,
      "metadata": {
        "tags": [
          "hide-input"
        ],
        "id": "wt4mglswBlCD",
        "outputId": "e49c743e-459d-4651-ac07-3d5439fd87c7",
        "colab": {
          "base_uri": "https://localhost:8080/",
          "height": 289
        }
      },
      "outputs": [
        {
          "output_type": "display_data",
          "data": {
            "text/plain": [
              "<Figure size 432x288 with 1 Axes>"
            ],
            "image/png": "[encoded data removed]"
          },
          "metadata": {
            "needs_background": "light"
          }
        }
      ],
      "source": [
        "fig, ax = plt.subplots()\n",
        "ax.plot(B_data[0, :])\n",
        "ax.set_xlabel(r\"Index $j$\")\n",
        "ax.set_ylabel(r\"$B$ (T)\");"
      ]
    },
    {
      "cell_type": "markdown",
      "metadata": {
        "id": "4BA4O4X5BlCD"
      },
      "source": [
        "Here are five samples:"
      ]
    },
    {
      "cell_type": "code",
      "execution_count": null,
      "metadata": {
        "tags": [
          "hide-input"
        ],
        "id": "XiyNMzEfBlCD",
        "outputId": "e1051116-52d1-4a41-c1fc-6afd7d3f83b9",
        "colab": {
          "base_uri": "https://localhost:8080/",
          "height": 289
        }
      },
      "outputs": [
        {
          "output_type": "display_data",
          "data": {
            "text/plain": [
              "<Figure size 432x288 with 1 Axes>"
            ],
            "image/png": "[encoded data removed]"
          },
          "metadata": {
            "needs_background": "light"
          }
        }
      ],
      "source": [
        "fig, ax = plt.subplots()\n",
        "ax.plot(B_data[:5, :].T)\n",
        "ax.set_xlabel(r\"Index $j$\")\n",
        "ax.set_ylabel(r\"$B$ (T)\");"
      ]
    },
    {
      "cell_type": "markdown",
      "metadata": {
        "id": "gwNy6IJBBlCE"
      },
      "source": [
        "Here are all the samples:"
      ]
    },
    {
      "cell_type": "code",
      "execution_count": null,
      "metadata": {
        "tags": [
          "hide-input"
        ],
        "id": "fPAGhg2-BlCE",
        "outputId": "59c41b01-1da7-46b6-8e68-1625377a4f3f",
        "colab": {
          "base_uri": "https://localhost:8080/",
          "height": 289
        }
      },
      "outputs": [
        {
          "output_type": "display_data",
          "data": {
            "text/plain": [
              "<Figure size 432x288 with 1 Axes>"
            ],
            "image/png": "[encoded data removed]"
          },
          "metadata": {
            "needs_background": "light"
          }
        }
      ],
      "source": [
        "fig, ax = plt.subplots()\n",
        "ax.plot(B_data[:, :].T, 'r', lw=0.1)\n",
        "ax.set_xlabel(r\"Index $j$\")\n",
        "ax.set_ylabel(r\"$B$ (T)\");"
      ]
    },
    {
      "cell_type": "markdown",
      "metadata": {
        "id": "Znvvc43kBlCE"
      },
      "source": [
        "A. We are going to start by studying the data at only one index. Say index $j=500$.\n",
        "Let's define a random variable\n",
        "\n",
        "$$\n",
        "X = B(H_{500}),\n",
        "$$\n",
        "\n",
        "for this reason. Extract and do a histogram of the data for $X$:"
      ]
    },
    {
      "cell_type": "code",
      "execution_count": null,
      "metadata": {
        "tags": [
          "hide-input"
        ],
        "id": "EUTu8Ap5BlCE",
        "outputId": "585edb47-56b0-4eaf-904a-2c64a6508bba",
        "colab": {
          "base_uri": "https://localhost:8080/",
          "height": 286
        }
      },
      "outputs": [
        {
          "output_type": "display_data",
          "data": {
            "text/plain": [
              "<Figure size 432x288 with 1 Axes>"
            ],
            "image/png": "[encoded data removed]"
          },
          "metadata": {
            "needs_background": "light"
          }
        }
      ],
      "source": [
        "X_data = B_data[:, 500]\n",
        "fig, ax = plt.subplots()\n",
        "ax.hist(X_data, alpha=0.5, density=True)\n",
        "ax.set_xlabel(r\"$x$\")\n",
        "ax.set_ylabel(r\"p(x)\");"
      ]
    },
    {
      "cell_type": "markdown",
      "metadata": {
        "id": "JmN5DGDkBlCE"
      },
      "source": [
        "This looks like a Gaussian $N(\\mu_{500}, \\sigma_{500}^2)$. Let's try to find a mean and variance for that Gaussian.\n",
        "A good choice for the mean is the empirical average of the data:\n",
        "\n",
        "$$\n",
        "\\mu_j = \\frac{1}{N}\\sum_{i=1}^NB_{ij}.\n",
        "$$\n",
        "\n",
        "Later we will learn that this is what the *maximum likelihood method* gives us.\n",
        "\n",
        "So, the mean is:"
      ]
    },
    {
      "cell_type": "code",
      "execution_count": null,
      "metadata": {
        "id": "_OJld4X2BlCE",
        "outputId": "10b3def4-c1cc-4be6-a20e-4caabaee1306",
        "colab": {
          "base_uri": "https://localhost:8080/"
        }
      },
      "outputs": [
        {
          "output_type": "stream",
          "name": "stdout",
          "text": [
            "mu_500 = 1.61\n"
          ]
        }
      ],
      "source": [
        "mu_500 = X_data.mean()\n",
        "print(f\"mu_500 = {mu_500:.2f}\")"
      ]
    },
    {
      "cell_type": "markdown",
      "metadata": {
        "id": "zMJQu_jBBlCE"
      },
      "source": [
        "Similarly, for the variance a good choice is the empirical variance defined by:\n",
        "\n",
        "$$\n",
        "\\sigma_j^2 = \\frac{1}{N}\\sum_{i=1}^N(B_{ij} - \\mu_j)^2.\n",
        "$$\n",
        "\n",
        "That is:"
      ]
    },
    {
      "cell_type": "code",
      "execution_count": null,
      "metadata": {
        "id": "E18YeF90BlCF",
        "outputId": "3cb3f3fa-aa55-44b9-c3f4-44c6f870c615",
        "colab": {
          "base_uri": "https://localhost:8080/"
        }
      },
      "outputs": [
        {
          "output_type": "stream",
          "name": "stdout",
          "text": [
            "sigma_500 = 7.42e-04\n"
          ]
        }
      ],
      "source": [
        "sigma2_500 = np.var(X_data)\n",
        "print(f\"sigma_500 = {sigma2_500:.2e}\")"
      ]
    },
    {
      "cell_type": "markdown",
      "metadata": {
        "id": "8Q4YhI2FBlCF"
      },
      "source": [
        "Repeat the plot of the histogram of $X$ along with the PDF of the normal variable we have just identified using the functionality of ``scipy.stats``."
      ]
    },
    {
      "cell_type": "code",
      "execution_count": null,
      "metadata": {
        "id": "L3R9MCWzBlCF",
        "colab": {
          "base_uri": "https://localhost:8080/",
          "height": 286
        },
        "outputId": "7b633144-caee-4341-b0d7-e94f7d380ca2"
      },
      "outputs": [
        {
          "output_type": "display_data",
          "data": {
            "text/plain": [
              "<Figure size 432x288 with 1 Axes>"
            ],
            "image/png": "[encoded data removed]"
          },
          "metadata": {
            "needs_background": "light"
          }
        }
      ],
      "source": [
        "# Your code here\n",
        "sigma_500 = np.sqrt(sigma2_500)\n",
        "X1 = st.norm(loc = mu_500, scale = sigma_500)\n",
        "\n",
        "fig, ax = plt.subplots()\n",
        "xs = np.linspace(1.5, 1.7, 500)\n",
        "ax.plot(xs, X1.pdf(xs), lw=2)\n",
        "ax.hist(X_data, alpha=0.5, density=True)\n",
        "ax.set_xlabel(r\"$x$\")\n",
        "ax.set_ylabel(r\"p(x)\");"
      ]
    },
    {
      "cell_type": "markdown",
      "metadata": {
        "id": "knIg7TGsBlCF"
      },
      "source": [
        "B. Using your normal approximation to the PDF of $X$, find the probability that $X = B(H_{500})$ is greater than 1.66 T.\n",
        "\n",
        "```\n",
        "\n",
        "```\n",
        "\n"
      ]
    },
    {
      "cell_type": "code",
      "execution_count": null,
      "metadata": {
        "id": "MlU2Iq5uBlCF",
        "colab": {
          "base_uri": "https://localhost:8080/"
        },
        "outputId": "ad2c54cd-ebe4-4453-aaa7-3420e3e9149c"
      },
      "outputs": [
        {
          "output_type": "stream",
          "name": "stdout",
          "text": [
            "Probability X=B(H500) greater than 1.66 T:  0.034\n"
          ]
        }
      ],
      "source": [
        "# Your code here (CDF)\n",
        "p_survival = X1.sf(1.66)\n",
        "print(f\"Probability X=B(H500) greater than 1.66 T:  {p_survival:.3f}\")\n"
      ]
    },
    {
      "cell_type": "markdown",
      "metadata": {
        "id": "XNBx_rqFBlCF"
      },
      "source": [
        "C. Let us now consider another random variable\n",
        "\n",
        "$$\n",
        "Y = B(H_{1000}).\n",
        "$$\n",
        "\n",
        "Isolate the data for this as well:"
      ]
    },
    {
      "cell_type": "code",
      "execution_count": null,
      "metadata": {
        "id": "n5AvSJ1vBlCF"
      },
      "outputs": [],
      "source": [
        "Y_data = B_data[:, 1000]"
      ]
    },
    {
      "cell_type": "markdown",
      "metadata": {
        "id": "LFXcWECtBlCF"
      },
      "source": [
        "Do the ``scatter`` plot of $X$ and $Y$:"
      ]
    },
    {
      "cell_type": "code",
      "execution_count": null,
      "metadata": {
        "id": "W3g5uhndBlCF",
        "colab": {
          "base_uri": "https://localhost:8080/",
          "height": 285
        },
        "outputId": "a5def01a-ff5d-4b4a-8cdd-0df88a8b3805"
      },
      "outputs": [
        {
          "output_type": "stream",
          "name": "stdout",
          "text": [
            "Plot Shows a positive correlation\n"
          ]
        },
        {
          "output_type": "display_data",
          "data": {
            "text/plain": [
              "<Figure size 432x288 with 1 Axes>"
            ],
            "image/png": "[encoded data removed]"
          },
          "metadata": {
            "needs_background": "light"
          }
        }
      ],
      "source": [
        "# Your code here\n",
        "fig, ax = plt.subplots()\n",
        "ax.plot(X_data, Y_data, '.', markersize=2);\n",
        "print(\"Plot Shows a positive correlation\")"
      ]
    },
    {
      "cell_type": "markdown",
      "metadata": {
        "id": "iSBDbuuIBlCF"
      },
      "source": [
        "D. From the scatter plot, it looks like the random vector\n",
        "\n",
        "$$\n",
        "\\mathbf{X} = (X, Y),\n",
        "$$\n",
        "\n",
        "follows a multivariate normal distribution. What would be the mean and covariance of the distribution.\n",
        "Well, first organize the samples of $X$ and $Y$ in a matrix with the number of rows being the number of samples and two columns (one corresponding to $X$ and one to $Y$)."
      ]
    },
    {
      "cell_type": "code",
      "execution_count": null,
      "metadata": {
        "id": "SM6mBsVHBlCG"
      },
      "outputs": [],
      "source": [
        "XY_data = np.hstack([X_data[:, None], Y_data[:, None]])"
      ]
    },
    {
      "cell_type": "markdown",
      "metadata": {
        "id": "XDF6bYE1BlCG"
      },
      "source": [
        "The mean vector is:"
      ]
    },
    {
      "cell_type": "code",
      "execution_count": null,
      "metadata": {
        "id": "T37oG9_uBlCG",
        "outputId": "2091d786-2136-4eae-b63d-3bc7fa0ad3af",
        "colab": {
          "base_uri": "https://localhost:8080/"
        }
      },
      "outputs": [
        {
          "output_type": "stream",
          "name": "stdout",
          "text": [
            "mu_XY = [1.61  1.703]\n"
          ]
        }
      ],
      "source": [
        "mu_XY = np.mean(XY_data, axis=0)\n",
        "print(f\"mu_XY = {mu_XY}\")"
      ]
    },
    {
      "cell_type": "markdown",
      "metadata": {
        "id": "VtEM-owuBlCG"
      },
      "source": [
        "The covariance matrix is a little bit trickier. \n",
        "We have already discussed how to find the diagonals of the covariance matrix (it is simply the variance).\n",
        "For the off-diagonal terms, this is the formula that is being used:\n",
        "\n",
        "$$\n",
        "C_{jk} = \\frac{1}{N}\\sum_{i=1}^N(B_{ij} - \\mu_j)(B_{ik} - \\mu_k).\n",
        "$$\n",
        "\n",
        "This is how you can find it:"
      ]
    },
    {
      "cell_type": "code",
      "execution_count": null,
      "metadata": {
        "id": "7k7h-EKhBlCG",
        "outputId": "19b757d5-b585-47be-ecd2-80af93302e08",
        "colab": {
          "base_uri": "https://localhost:8080/"
        }
      },
      "outputs": [
        {
          "output_type": "stream",
          "name": "stdout",
          "text": [
            "C_XY =\n",
            "[[0.001 0.001]\n",
            " [0.001 0.001]]\n"
          ]
        }
      ],
      "source": [
        "# Careful with np.cov because it requires you to transpose the matrix\n",
        "C_XY = np.cov(XY_data.T)\n",
        "print(f\"C_XY =\")\n",
        "print(C_XY)"
      ]
    },
    {
      "cell_type": "markdown",
      "metadata": {
        "id": "GXD7wGhzBlCG"
      },
      "source": [
        "Are the two variables $X$ and $Y$ positively or negatively correlated?<br>\n",
        "**Answer:**\n",
        "<br><br>"
      ]
    },
    {
      "cell_type": "markdown",
      "metadata": {
        "id": "XN6m-bunBlCG"
      },
      "source": [
        "E. Use ``np.linalg.eigh`` to check that the matrix ``C_XY`` is indeed positive definite."
      ]
    },
    {
      "cell_type": "code",
      "execution_count": null,
      "metadata": {
        "id": "sbCSKNTTBlCG",
        "colab": {
          "base_uri": "https://localhost:8080/"
        },
        "outputId": "8e49f5da-51cd-4717-9e84-b2a5f4e38e9f"
      },
      "outputs": [
        {
          "output_type": "stream",
          "name": "stdout",
          "text": [
            "[2.474e-05 1.688e-03]\n",
            "The first array shows two positive eigenvalues therfore the covariance matrix has to be positive definite.\n"
          ]
        }
      ],
      "source": [
        "# Your code here\n",
        "a = np.linalg.eigh(C_XY)\n",
        "print(a[0])\n",
        "print(\"The first array shows two positive eigenvalues therfore the covariance matrix has to be positive definite.\")"
      ]
    },
    {
      "cell_type": "markdown",
      "metadata": {
        "id": "IR-B-Nh4BlCG"
      },
      "source": [
        "F. Use the functionality of ``scipy.stats.multivariate_normal`` to plot the joint probability function of the samples of $X$ and $Y$ in the same plot as the scatter plot of $X$ and $Y$."
      ]
    },
    {
      "cell_type": "code",
      "execution_count": null,
      "metadata": {
        "id": "ULYNziH7BlCG",
        "colab": {
          "base_uri": "https://localhost:8080/",
          "height": 272
        },
        "outputId": "7ffad590-c7e8-4d90-d85b-7e15cea9381f"
      },
      "outputs": [
        {
          "output_type": "display_data",
          "data": {
            "text/plain": [
              "<Figure size 432x288 with 2 Axes>"
            ],
            "image/png": "[encoded data removed]"
          },
          "metadata": {
            "needs_background": "light"
          }
        }
      ],
      "source": [
        "# Your code here\n",
        "XY = st.multivariate_normal(mean=mu_XY, cov=C_XY)\n",
        "\n",
        "# CONTOURS\n",
        "fig, ax = plt.subplots()\n",
        "x1 = np.linspace(1.5, 1.7, 200)\n",
        "x2 = np.linspace(1.6, 1.8, 200)\n",
        "X1, X2 = np.meshgrid(x1, x2)\n",
        "X_flat = np.hstack(\n",
        "    [\n",
        "        X1.flatten()[:, None],\n",
        "        X2.flatten()[:, None]\n",
        "    ]\n",
        ")\n",
        "# PDF values\n",
        "pdf_X = XY.pdf(X_flat).reshape(X1.shape)\n",
        "c = ax.contour(X1, X2, pdf_X)\n",
        "plt.colorbar(c, label='$p(\\mathbf{x})$')\n",
        "ax.plot(X_data, Y_data, '.', markersize=2);\n",
        "\n",
        "\n",
        "\n",
        "\n"
      ]
    },
    {
      "cell_type": "markdown",
      "metadata": {
        "id": "D5Rn8eAQBlCH"
      },
      "source": [
        "G. Now, let's think each $B-H$ curve as a random vector.\n",
        "That is, the random vector $\\mathbf{B}$ corresponds to the values of the magnetic flux density at a fixed number of $H$-values. It is:\n",
        "\n",
        "$$\n",
        "\\mathbf{B} = (B(H_1), \\dots, B(H_{1500})).\n",
        "$$\n",
        "\n",
        "It is like $\\mathbf{X} = (X, Y)$ only now we have 1500 dimensions instead of $2$.\n",
        "\n",
        "First, let's find the mean of this random vector:"
      ]
    },
    {
      "cell_type": "code",
      "execution_count": null,
      "metadata": {
        "id": "OINuXNvIBlCH",
        "outputId": "3979e705-7f19-48a0-ef69-4891b6a5d659",
        "colab": {
          "base_uri": "https://localhost:8080/"
        }
      },
      "outputs": [
        {
          "output_type": "execute_result",
          "data": {
            "text/plain": [
              "array([0.   , 0.004, 0.015, ..., 1.784, 1.784, 1.784])"
            ]
          },
          "metadata": {},
          "execution_count": 38
        }
      ],
      "source": [
        "B_mu = np.mean(B_data, axis=0)\n",
        "B_mu"
      ]
    },
    {
      "cell_type": "markdown",
      "metadata": {
        "id": "IXAj8mgdBlCH"
      },
      "source": [
        "Let's plot the mean on top of all the data we have:\n",
        "\n",
        "---\n",
        "\n"
      ]
    },
    {
      "cell_type": "code",
      "execution_count": null,
      "metadata": {
        "tags": [
          "hide-input"
        ],
        "id": "E0roRPvzBlCH",
        "outputId": "539cc54a-90d1-4453-9e43-2626adddfb5e",
        "colab": {
          "base_uri": "https://localhost:8080/",
          "height": 306
        }
      },
      "outputs": [
        {
          "output_type": "stream",
          "name": "stdout",
          "text": [
            "(200, 1500)\n"
          ]
        },
        {
          "output_type": "display_data",
          "data": {
            "text/plain": [
              "<Figure size 432x288 with 1 Axes>"
            ],
            "image/png": "[encoded data removed]"
          },
          "metadata": {
            "needs_background": "light"
          }
        }
      ],
      "source": [
        "fig, ax = plt.subplots()\n",
        "ax.plot(B_data[:, :].T, 'r', lw=0.1)\n",
        "print(np.shape(B_data))\n",
        "plt.plot([],[], 'r', label='Data')\n",
        "ax.plot(B_mu, label=\"Mean vector\")\n",
        "ax.set_xlabel(r\"Index $j$\")\n",
        "ax.set_ylabel(r\"$B$ (T)\")\n",
        "plt.legend(loc=\"best\");"
      ]
    },
    {
      "cell_type": "markdown",
      "metadata": {
        "id": "wCiTzdFNBlCH"
      },
      "source": [
        "It looks good. Now, find the covariance matrix of $\\mathbf{B}$. This is going to be a 1500x1500 matrix."
      ]
    },
    {
      "cell_type": "code",
      "execution_count": null,
      "metadata": {
        "id": "kZz-LEpuBlCH",
        "outputId": "e8d6fa01-414f-46fe-b7cc-eaa13526d4d0",
        "colab": {
          "base_uri": "https://localhost:8080/"
        }
      },
      "outputs": [
        {
          "output_type": "execute_result",
          "data": {
            "text/plain": [
              "array([[0.000e+00, 0.000e+00, 0.000e+00, ..., 0.000e+00, 0.000e+00,\n",
              "        0.000e+00],\n",
              "       [0.000e+00, 1.163e-06, 4.420e-06, ..., 3.182e-06, 3.184e-06,\n",
              "        3.185e-06],\n",
              "       [0.000e+00, 4.420e-06, 1.680e-05, ..., 1.228e-05, 1.229e-05,\n",
              "        1.229e-05],\n",
              "       ...,\n",
              "       [0.000e+00, 3.182e-06, 1.228e-05, ..., 1.203e-03, 1.203e-03,\n",
              "        1.203e-03],\n",
              "       [0.000e+00, 3.184e-06, 1.229e-05, ..., 1.203e-03, 1.203e-03,\n",
              "        1.203e-03],\n",
              "       [0.000e+00, 3.185e-06, 1.229e-05, ..., 1.203e-03, 1.203e-03,\n",
              "        1.204e-03]])"
            ]
          },
          "metadata": {},
          "execution_count": 40
        }
      ],
      "source": [
        "B_cov = np.cov(B_data.T)\n",
        "B_cov"
      ]
    },
    {
      "cell_type": "markdown",
      "metadata": {
        "id": "BESfQcaYBlCH"
      },
      "source": [
        "Let's plot this matrix:"
      ]
    },
    {
      "cell_type": "code",
      "execution_count": null,
      "metadata": {
        "tags": [
          "hide-input"
        ],
        "id": "7zhxerlTBlCH",
        "outputId": "33c39b0b-d1ce-415d-e2a7-32defcbfbf12",
        "colab": {
          "base_uri": "https://localhost:8080/",
          "height": 272
        }
      },
      "outputs": [
        {
          "output_type": "display_data",
          "data": {
            "text/plain": [
              "<Figure size 432x288 with 2 Axes>"
            ],
            "image/png": "[encoded data removed]"
          },
          "metadata": {
            "needs_background": "light"
          }
        }
      ],
      "source": [
        "fig, ax = plt.subplots()\n",
        "c = ax.imshow(B_cov, interpolation='nearest')\n",
        "plt.colorbar(c, label=\"Covariance\");"
      ]
    },
    {
      "cell_type": "markdown",
      "metadata": {
        "id": "q00v6XN5BlCH"
      },
      "source": [
        "The numbers are very small.\n",
        "This is because the covariance depends on the scale of $X$ and $Y$.\n",
        "If we change the units it will change.\n",
        "To get a more objective measure, we should be using the [correlation](https://en.wikipedia.org/wiki/Correlation).\n",
        "The correlation is essentially the covariance of $X$ and $Y$ scaled by their standard deviation, i.e.:\n",
        "\n",
        "$$\n",
        "\\rho(X, Y) = \\frac{\\mathbb{C}[X, Y]}{\\sqrt{\\mathbb{V}[X]\\mathbb{V}[Y]}}.\n",
        "$$\n",
        "\n",
        "Obviously the correlation has the same sign as the covariance.\n",
        "The addendum is that it is unitless and unambiguously scaled between -1 and +1.\n",
        "Here is how you can find it:"
      ]
    },
    {
      "cell_type": "code",
      "execution_count": null,
      "metadata": {
        "id": "vhKMfwQ5BlCI",
        "outputId": "df66e174-36cb-4056-b466-9b25a1625651",
        "colab": {
          "base_uri": "https://localhost:8080/"
        }
      },
      "outputs": [
        {
          "output_type": "execute_result",
          "data": {
            "text/plain": [
              "array([[1.   , 1.   , 0.999, ..., 0.085, 0.085, 0.085],\n",
              "       [1.   , 1.   , 1.   , ..., 0.086, 0.086, 0.086],\n",
              "       [0.999, 1.   , 1.   , ..., 0.088, 0.088, 0.088],\n",
              "       ...,\n",
              "       [0.085, 0.086, 0.088, ..., 1.   , 1.   , 1.   ],\n",
              "       [0.085, 0.086, 0.088, ..., 1.   , 1.   , 1.   ],\n",
              "       [0.085, 0.086, 0.088, ..., 1.   , 1.   , 1.   ]])"
            ]
          },
          "metadata": {},
          "execution_count": 42
        }
      ],
      "source": [
        "# Note that I have to remove the first point because it is always zero\n",
        "# and it has zero variance.\n",
        "B_corr = np.corrcoef(B_data[:,1:].T)\n",
        "B_corr"
      ]
    },
    {
      "cell_type": "markdown",
      "metadata": {
        "id": "08tCg5m_BlCI"
      },
      "source": [
        "Here is the correlation visualized:"
      ]
    },
    {
      "cell_type": "code",
      "execution_count": null,
      "metadata": {
        "id": "gThKXjZLBlCI",
        "outputId": "8e447630-1e58-46fe-a6ac-fb708e53b318",
        "colab": {
          "base_uri": "https://localhost:8080/",
          "height": 272
        }
      },
      "outputs": [
        {
          "output_type": "display_data",
          "data": {
            "text/plain": [
              "<Figure size 432x288 with 2 Axes>"
            ],
            "image/png": "[encoded data removed]"
          },
          "metadata": {
            "needs_background": "light"
          }
        }
      ],
      "source": [
        "fig, ax = plt.subplots()\n",
        "c = ax.imshow(B_corr, interpolation='nearest')\n",
        "plt.colorbar(c, label=\"Correlation\");"
      ]
    },
    {
      "cell_type": "markdown",
      "metadata": {
        "id": "rsgCqc1xBlCI"
      },
      "source": [
        "You see that the values are quite a bit correlated. This makes sense because the curves are all very smooth and they look very much alike. \n",
        "\n",
        "Let's check if the covariance is indeed positive definite:"
      ]
    },
    {
      "cell_type": "code",
      "execution_count": null,
      "metadata": {
        "id": "1hMIfKpABlCI",
        "outputId": "eb2f3773-c0da-4634-b8e8-cd44e5d12319",
        "colab": {
          "base_uri": "https://localhost:8080/"
        }
      },
      "outputs": [
        {
          "output_type": "stream",
          "name": "stdout",
          "text": [
            "Eigenvalues of B_cov:\n",
            "[-3.851e-16 -3.395e-16 -2.712e-16 ...  4.662e-02  1.166e-01  1.207e+00]\n"
          ]
        }
      ],
      "source": [
        "print(\"Eigenvalues of B_cov:\")\n",
        "print(np.linalg.eigh(B_cov)[0])"
      ]
    },
    {
      "cell_type": "markdown",
      "metadata": {
        "id": "fTz36BHNBlCI"
      },
      "source": [
        "Hmm, notice that there are several eigenvalues that are negative, but they are too small. Very close to zero. This happens very often in practice when you are finding the covariance of a very large random vectors. It arises from the fact that we are using floating point arithmetic instead of a real numbers. It is a numerical artifact.\n",
        "If you tried to use this covariance to make a multivariate normal random vector using ``scipy.stats`` it would fail.\n",
        "Try this:"
      ]
    },
    {
      "cell_type": "code",
      "execution_count": null,
      "metadata": {
        "tags": [
          "hide-output"
        ],
        "id": "mIw2VSLrBlCI"
      },
      "outputs": [],
      "source": [
        "# B = st.multivariate_normal(mean=B_mu, cov=B_cov)"
      ]
    },
    {
      "cell_type": "markdown",
      "metadata": {
        "id": "_JqhqGUCBlCI"
      },
      "source": [
        "The way to overcome this problem is to add a small positive number to the diagonal. This needs to be very small so that the distribution does not change very much. It must be the smallest possible number that makes the covariance matrix behave well. This is known as the *jitter* or the *nugget*. Find the nugget playing with the code below. Every time you try, multiply the nugget by ten."
      ]
    },
    {
      "cell_type": "code",
      "execution_count": null,
      "metadata": {
        "id": "AYdd7iGLBlCI",
        "colab": {
          "base_uri": "https://localhost:8080/"
        },
        "outputId": "84f1feb0-44e2-49a7-e0f7-c16fc52e7615"
      },
      "outputs": [
        {
          "output_type": "stream",
          "name": "stdout",
          "text": [
            "It worked! Move on.\n"
          ]
        }
      ],
      "source": [
        "# Pick the nugget here\n",
        "nugget = 1e-9\n",
        "# This is the modified covariance matrix\n",
        "B_cov_w_nugget = B_cov + nugget * np.eye(B_cov.shape[0])\n",
        "# Try building the distribution:\n",
        "try:\n",
        "    B = st.multivariate_normal(mean=B_mu, cov=B_cov_w_nugget)\n",
        "    print('It worked! Move on.')\n",
        "except:\n",
        "    print('It did not work. Increase nugget by 10.')"
      ]
    },
    {
      "cell_type": "markdown",
      "metadata": {
        "id": "Oe92IHoVBlCI"
      },
      "source": [
        "H. Now you have created your first stochastic model of a complicated physical quantity. By sampling from your newly constructed random vector $\\mathbf{B}$ \n",
        "\n",
        "---\n",
        "\n",
        "you have essentially quantified your uncertainty about the $B-H$ curve as induced by the inability to perfectly control the production of steel. Take 10 samples of this random vector and plot them."
      ]
    },
    {
      "cell_type": "code",
      "execution_count": null,
      "metadata": {
        "id": "hJx_qgyjBlCJ",
        "colab": {
          "base_uri": "https://localhost:8080/",
          "height": 285
        },
        "outputId": "91f9274a-9331-412d-862f-52dac5bf072b"
      },
      "outputs": [
        {
          "output_type": "stream",
          "name": "stdout",
          "text": [
            "(10, 1500)\n"
          ]
        },
        {
          "output_type": "display_data",
          "data": {
            "text/plain": [
              "<Figure size 432x288 with 1 Axes>"
            ],
            "image/png": "[encoded data removed]"
          },
          "metadata": {
            "needs_background": "light"
          }
        }
      ],
      "source": [
        "# B is multivariable normal \n",
        "sample = B.rvs(10)\n",
        "print(np.shape(sample))\n",
        "xs = np.linspace(0, 1500, 1500)\n",
        "\n",
        "# Plot \n",
        "fig, ax = plt.subplots()\n",
        "ax.plot(sample[:, :].T, 'r', lw=1);\n",
        "\n"
      ]
    },
    {
      "cell_type": "markdown",
      "metadata": {
        "id": "UJN633bVBlCJ"
      },
      "source": [
        "Congratulations!\n",
        "You have made your first stochastic model of a physical field quantity.\n",
        "You have now the ability to sample $B-H$ curves in a way that honors the manufacturing uncertainties.\n",
        "This is the first step to uncertainty quantification studies.\n",
        "The next step would be to propagate these samples through Maxwell's equations to characterize the effect on performance of an electric machine.\n",
        "If you are interested to see how that looks take a look at {cite}`sahu2020` and {cite}`beltran2020`."
      ]
    },
    {
      "cell_type": "code",
      "execution_count": null,
      "metadata": {
        "id": "D3M_kPxdBlCJ"
      },
      "outputs": [],
      "source": []
    },
    {
      "cell_type": "code",
      "source": [
        "!wget -nc https://raw.githubusercontent.com/brpy/colab-pdf/master/colab_pdf.py\n",
        "from colab_pdf import colab_pdf\n",
        "colab_pdf('MihirNadig_homework-02.ipynb')"
      ],
      "metadata": {
        "colab": {
          "base_uri": "https://localhost:8080/"
        },
        "id": "-L14GVHnHXgt",
        "outputId": "9fe417f8-17da-4b63-c80e-b96a99cd5ad2"
      },
      "execution_count": null,
      "outputs": [
        {
          "output_type": "stream",
          "name": "stdout",
          "text": [
            "File ‘colab_pdf.py’ already there; not retrieving.\n",
            "\n",
            "Mounted at /content/drive/\n",
            "\n",
            "WARNING: apt does not have a stable CLI interface. Use with caution in scripts.\n",
            "\n",
            "\n",
            "WARNING: apt does not have a stable CLI interface. Use with caution in scripts.\n",
            "\n",
            "Extracting templates from packages: 100%\n",
            "[NbConvertApp] Converting notebook /content/drive/MyDrive/Colab Notebooks/MihirNadig_homework-02.ipynb to pdf\n"
          ]
        }
      ]
    }
  ],
  "metadata": {
    "celltoolbar": "Tags",
    "kernelspec": {
      "display_name": "Python 3 (ipykernel)",
      "language": "python",
      "name": "python3"
    },
    "language_info": {
      "codemirror_mode": {
        "name": "ipython",
        "version": 3
      },
      "file_extension": ".py",
      "mimetype": "text/x-python",
      "name": "python",
      "nbconvert_exporter": "python",
      "pygments_lexer": "ipython3",
      "version": "3.9.13"
    },
    "colab": {
      "provenance": []
    }
  },
  "nbformat": 4,
  "nbformat_minor": 0
}