{
  "cells": [
    {
      "cell_type": "markdown",
      "metadata": {
        "id": "2pCUMjqHc7mm"
      },
      "source": [
        "# Homework 1\n",
        "\n",
        "## References\n",
        "\n",
        "+ Lectures 1-3 (inclusive).\n",
        "\n",
        "## Instructions\n",
        "\n",
        "+ Type your name and email in the \"Student details\" section below.\n",
        "+ Develop the code and generate the figures you need to solve the problems using this notebook.\n",
        "+ For the answers that require a mathematical proof or derivation you should type them using latex. If you have never written latex before and you find it exceedingly difficult, we will likely accept handwritten solutions.\n",
        "+ The total homework points are 100. Please note that the problems are not weighed equally."
      ]
    },
    {
      "cell_type": "code",
      "execution_count": null,
      "metadata": {
        "tags": [
          "hide-input"
        ],
        "id": "8-sLTGp_c7mp"
      },
      "outputs": [],
      "source": [
        "import numpy as np\n",
        "import matplotlib.pyplot as plt\n",
        "import scipy.stats as st\n",
        "%matplotlib inline\n",
        "import seaborn as sns\n",
        "sns.set(rc={\"figure.dpi\":100, \"savefig.dpi\":300})\n",
        "sns.set_context(\"notebook\")\n",
        "sns.set_style(\"ticks\")"
      ]
    },
    {
      "cell_type": "markdown",
      "metadata": {
        "id": "hk1P0ax9c7mr"
      },
      "source": [
        "## Student details\n",
        "\n",
        "+ **First Name:** Mihir \n",
        "+ **Last Name:** Nadig\n",
        "+ **Email:** mnadig@purdue.edu"
      ]
    },
    {
      "cell_type": "markdown",
      "metadata": {
        "id": "Qsm6dsjfc7mr"
      },
      "source": [
        "## Problem 1\n",
        "\n",
        "Disclaimer: This example is a modified version of the one found in a 2013 lecture on Bayesian Scientific Computing taught by Prof. Nicholas Zabaras.\n",
        "I am not sure where the original problem is coming from.\n",
        "\n",
        "We are tasked with assessing the usefulness of a tuberculosis test.\n",
        "The prior information I is:\n",
        "\n",
        "> The percentage of the population infected by tuberculosis is 0.4\\%.\n",
        "We have run several experiments and determined that:\n",
        "+ If a tested patient has the disease, then 80\\% of the time the test comes out positive.\n",
        "+ If a tested patient does not have the disease, then 90\\% of the time the test comes out negative.\n",
        "\n",
        "To facilitate your analysis, consider the following logical sentences concerning a patient:\n",
        "\n",
        "> A: The patient is tested and the test is positive.\n",
        "\n",
        "> B: The patient has tuberculosis.\n",
        "\n",
        "A. Find the probability that the patient has tuberculosis (before looking at the result of the test), i.e., $p(B|I)$. This is known as the base rate or the prior probability.<br>\n",
        "**Answer:** p(B|I) = 0.004\n",
        "\n",
        "*Reasoning: Probability of that any patient has tuberculosis is given in the given information by the prevalance rate.*\n",
        "<br><br><br><br><br><br><br><br>"
      ]
    },
    {
      "cell_type": "markdown",
      "metadata": {
        "id": "G1d49MMSc7ms"
      },
      "source": [
        "B. Find the probability that the test is positive given that the patient has tuberculosis, i.e., $p(A|B,I)$.<br>\n",
        "**Answer:** p(A|B,I) = 0.80\n",
        "\n",
        "\n",
        "\n",
        "*Reasoning: We assume that the patient has tubercolosis and that it is a true statement, then the probability that the test is positive is given in the second statement in the given information.*\n",
        "<br><br><br><br><br><br><br><br>"
      ]
    },
    {
      "cell_type": "markdown",
      "metadata": {
        "id": "UngkIzksc7mt"
      },
      "source": [
        "C. Find the probability that the test is positive given that the patient does not have tuberculosis, i.e., $p(A|\\neg B, I)$.<br>\n",
        "**Answer:** $p(A|\\neg B, I)$ = 0.10\n",
        "\n",
        "\n",
        "*Reasoning: Assuming that the patient is healthy, we are looking for the probability the patient tests positive or a false positive rate. This can be found in the last given statement for i. Since the test will be negative 90% of the time for a healthy patient, there is a 10% chance of a false positive.*\n",
        "<br><br><br><br><br><br><br><br>"
      ]
    },
    {
      "cell_type": "markdown",
      "metadata": {
        "id": "cbYvmxaqc7mt"
      },
      "source": [
        "\n",
        "\n",
        "```\n",
        "# This is formatted as code\n",
        "```\n",
        "\n",
        "D. Find the probability that a patient that tested positive has tuberculosis, i.e., $p(B|A,I)$.<br>\n",
        "**Answer:** 0.031\n",
        "\n",
        "*This is solved using Bayesian logic as shown in the attached derivation at the end. (Handwritten on the ipad.)*\n",
        "<br><br><br><br><br><br><br><br>"
      ]
    },
    {
      "cell_type": "markdown",
      "metadata": {
        "id": "QL2kFoVBc7mu"
      },
      "source": [
        "E. Find the probability that a patient that tested negative has tuberculosis, i.e., $p(B|\\neg A, I)$. Does the test change our prior state of knowledge about about the patient? Is the test useful?<br>\n",
        "**Answer:** 0.00089\n",
        "\n",
        "This changes the prior state of knowledge bc we now assume they are healthy statistically. Test is useful but to a limited degree. Considering p(B,I) you assumed the patient was negative anyway therefore there is not a major significance to the result. \n",
        "\n",
        "In the real world, I would argue that it is useful for the patient if they are at risk, but unless they show symptoms or there is an external factor it is not needed. Yes it changes our prior state of knowledge but there is .996 probability that this could have been assumed anyway. \n",
        "\n",
        "*Derivation attached in handwritten notes*\n",
        "<br><br><br><br><br><br><br><br>"
      ]
    },
    {
      "cell_type": "markdown",
      "metadata": {
        "id": "eeuMCtVhc7mu"
      },
      "source": [
        "F. What would a good test look like? Find values for \n",
        "\n",
        "$$\n",
        "p(A|B,I)= p(\\text{test is positive} |\\text{has tuberculosis},I),\n",
        "$$\n",
        "\n",
        "and\n",
        "\n",
        "$$\n",
        "p(A| \\neg B, I) = p(\\text{test is positive}|\\text{does not have tuberculosis}, I),\n",
        "$$\n",
        "\n",
        "so that\n",
        "\n",
        "$$\n",
        "p(B|A, I) = p(\\text{has tuberculosis}|\\text{test is positive}, I) = 0.99.\n",
        "$$\n",
        "\n",
        "There are more than one solutions. How would you pick a good one? Thinking in this way can help you set goals if you work in R\\&D. If you have time, try to figure out whether or not there exists such an accurate test for tuberculosis<br>\n",
        "**Answer:** <br>\n",
        "$p(A|B,I)$ = .9 <br>\n",
        "$p(A| \\neg B, I)$ = .00001\n",
        "\n",
        "*This will yield the following:* <br>\n",
        "$p(B|A, I)$ = .9974<br>\n",
        "\n",
        "*In my opinion I would pick a test with a lower probability of false positive rate as that had a bigger influence of the correlation between disease and positive screen.*<br>\n",
        "\n",
        "*From my limited research there does not exist a test that satisfies these conditions. From my limited research the nih cross-reactivity as a factor with TB tests causing false positives in a rate of .1-2.3% which is too high to meet the proposed conditions.* <br>\n",
        "\n",
        "*Computation provided in the code block below, derivation in the attached handwritten derivations.*\n",
        "\n",
        "\n",
        "\n",
        "<br><br><br><br><br><br><br><br>"
      ]
    },
    {
      "cell_type": "code",
      "source": [
        "# Solving for problem 1 part E \n",
        "\n",
        "goal = .99 \n",
        "\n",
        "a_b = .9 \n",
        "a_nb = .00001\n",
        "b = 0.004\n",
        "nb = 1-b\n",
        "\n",
        "eqn = (a_b*b)/(a_b*b+a_nb*nb)\n",
        "print(eqn)"
      ],
      "metadata": {
        "colab": {
          "base_uri": "https://localhost:8080/"
        },
        "id": "Ug7lWE2B9PJW",
        "outputId": "5c493ede-265a-4ea3-c5f1-000e19e36e33"
      },
      "execution_count": null,
      "outputs": [
        {
          "output_type": "stream",
          "name": "stdout",
          "text": [
            "0.9972409666589104\n"
          ]
        }
      ]
    },
    {
      "cell_type": "markdown",
      "metadata": {
        "id": "Oa9fqb1Uc7mv"
      },
      "source": [
        "## Problem 2 - Practice with discrete random variables\n",
        "\n",
        "Consider the Categorical random variable:\n",
        "\n",
        "$$\n",
        "X \\sim \\operatorname{Categorical}(0.3, 0.1, 0.2, 0.4),\n",
        "$$\n",
        "\n",
        "taking values in $\\{0,1,2,3\\}$. Find the following (you may use ``scipy.stats.rv_discrete`` or do it by hand):"
      ]
    },
    {
      "cell_type": "markdown",
      "metadata": {
        "id": "JHFfN5a5c7mv"
      },
      "source": [
        "A. The expectation $\\mathbb{E}[X]$.\n",
        "\n",
        "**Answer:** E[X] = 1.7 \n",
        "\n",
        "*Work shown in code block below*\n",
        "<br><br>"
      ]
    },
    {
      "cell_type": "code",
      "execution_count": null,
      "metadata": {
        "id": "Q7Vm0rS-c7mv",
        "colab": {
          "base_uri": "https://localhost:8080/"
        },
        "outputId": "c27066c1-ad8c-40dc-d7b5-c30876df5cc0"
      },
      "outputs": [
        {
          "output_type": "stream",
          "name": "stdout",
          "text": [
            "E(X) = 1.7\n"
          ]
        }
      ],
      "source": [
        "# Definition of Outcomes (K values)\n",
        "xs = np.array([0, 1, 2, 3])\n",
        "# Definition of Probabilities (X Categorical)\n",
        "ps = [0.3, 0.1, 0.2, 0.4] \n",
        "# Definition of categorical r.v.  \n",
        "X = st.rv_discrete(name=\"Custom Categorical\", values=(xs, ps))\n",
        "\n",
        "# Expectation\n",
        "expectation = round(X.expect(),2)  \n",
        "print(f\"E(X) = {expectation}\")\n"
      ]
    },
    {
      "cell_type": "markdown",
      "metadata": {
        "id": "dxvZYcGDc7mw"
      },
      "source": [
        "B. The variance $\\mathbb{V}[X]$.\n",
        "\n",
        "**Answer:** V[X] = 1.61 \n",
        "\n",
        "*Work shown in the code block below and rounded to two decimal places.*\n",
        "<br><br>"
      ]
    },
    {
      "cell_type": "code",
      "execution_count": null,
      "metadata": {
        "id": "Say1FSP0c7mw",
        "colab": {
          "base_uri": "https://localhost:8080/"
        },
        "outputId": "28847aa6-bb66-4422-b44e-f28af6788a27"
      },
      "outputs": [
        {
          "output_type": "stream",
          "name": "stdout",
          "text": [
            "V[x] = 1.61\n"
          ]
        }
      ],
      "source": [
        "# Variance \n",
        "variance = X.var()\n",
        "print(f\"V[x] = {round(variance, 2)}\")"
      ]
    },
    {
      "cell_type": "markdown",
      "metadata": {
        "id": "Qt17dAPIc7mw"
      },
      "source": [
        "C. Plot the probability mass function of $X$."
      ]
    },
    {
      "cell_type": "code",
      "execution_count": null,
      "metadata": {
        "id": "cr7F8j9Tc7mw",
        "colab": {
          "base_uri": "https://localhost:8080/",
          "height": 301
        },
        "outputId": "b31c7b32-c499-416f-c1a0-4a94ff8c37e6"
      },
      "outputs": [
        {
          "output_type": "display_data",
          "data": {
            "text/plain": [
              "<Figure size 432x288 with 1 Axes>"
            ],
            "image/png": "[encoded data removed]"
          },
          "metadata": {
            "needs_background": "light"
          }
        }
      ],
      "source": [
        "# PMF Plotted \n",
        "fig, ax = plt.subplots()\n",
        "ax.bar(xs, X.pmf(xs))\n",
        "ax.set_title(\"PMF\")\n",
        "ax.set_xlabel(\"$x$\")\n",
        "ax.set_ylabel(\"$p(x)$\");"
      ]
    },
    {
      "cell_type": "markdown",
      "metadata": {
        "id": "d662ddFOc7mw"
      },
      "source": [
        "D. Find the probability that $X$ is in $\\{0, 2\\}$.\n",
        "\n",
        "**Answer:** p = 0.5 \n",
        "\n",
        "p$\\{0, 2\\}$ = p(0) + p(2) \n",
        "\n",
        "*Remaining work shown in code block below*\n",
        "<br><br>"
      ]
    },
    {
      "cell_type": "code",
      "execution_count": null,
      "metadata": {
        "id": "LTCmnkr2c7mx",
        "colab": {
          "base_uri": "https://localhost:8080/"
        },
        "outputId": "1eaeb466-6fde-4736-8676-030a9185e0d0"
      },
      "outputs": [
        {
          "output_type": "stream",
          "name": "stdout",
          "text": [
            " p(subset) = 0.5\n"
          ]
        }
      ],
      "source": [
        "# Calculating subset probability below\n",
        "psubset = ps[0] + ps[2]\n",
        "print(f\" p(subset) = {psubset}\")"
      ]
    },
    {
      "cell_type": "markdown",
      "metadata": {
        "id": "iEckL8d7c7mx"
      },
      "source": [
        "E. Find $\\mathbb{E}[4X + 3]$.\n",
        "\n",
        "**Answer:** 9.8\n",
        "\n",
        "*remaining work shown below, expectation rounded to 2 decimal places\n",
        "<br><br>"
      ]
    },
    {
      "cell_type": "code",
      "execution_count": null,
      "metadata": {
        "id": "IUDl0q5wc7mx",
        "colab": {
          "base_uri": "https://localhost:8080/"
        },
        "outputId": "4eef1652-329c-4cb3-b9dd-70a05ccfbca0"
      },
      "outputs": [
        {
          "output_type": "stream",
          "name": "stdout",
          "text": [
            "Manipulated Expectation: 9.8\n"
          ]
        }
      ],
      "source": [
        "# Expectation Manipulation \n",
        "exp2 = 4*expectation+3 # expectation solved earlier\n",
        "print(f\"Manipulated Expectation: {exp2}\")\n"
      ]
    },
    {
      "cell_type": "markdown",
      "metadata": {
        "id": "s0zqgESIc7mx"
      },
      "source": [
        "F. Find $\\mathbb{V}[4X+3]$.\n",
        "\n",
        "**Answer:** V[4X+3] = 25.76\n",
        "\n",
        "\n",
        "\n",
        "\n",
        "*Remaining work shown in code block below*\n",
        "<br><br>"
      ]
    },
    {
      "cell_type": "code",
      "execution_count": null,
      "metadata": {
        "id": "twNZI2HCc7mx",
        "colab": {
          "base_uri": "https://localhost:8080/"
        },
        "outputId": "cc201731-4ee5-4131-bfe9-9bf20474195e"
      },
      "outputs": [
        {
          "output_type": "stream",
          "name": "stdout",
          "text": [
            "Manipulated Variance: 25.76\n"
          ]
        }
      ],
      "source": [
        "# Variance Manipulation\n",
        "var2 = round(variance*4**2,2)\n",
        "print(f\"Manipulated Variance: {var2}\")"
      ]
    },
    {
      "cell_type": "markdown",
      "metadata": {
        "id": "9HgOu57sc7mx"
      },
      "source": [
        "## Problem 3 - Predicting the probability of major earthquakes in Southern California\n",
        "\n",
        "The [San Andreas fault](https://en.wikipedia.org/wiki/San_Andreas_Fault) extends through California forming the boundary between the Pacific and the North American tectonic plates.\n",
        "It has caused some of the major earthquakes on Earth.\n",
        "We are going to focus on Southern California and we would like to assess the probability of a major earthquake, defined as an earthquake of magnitude 6.5 or greater, during the next ten years.\n",
        "\n",
        "A. The first thing we are going to do is go over a [database of past earthquakes](https://scedc.caltech.edu/significant/chron-index.html) that have occured in Southern California and collect the relevant data. We are going to start at 1900 because data before that time may are unreliable.\n",
        "Go over each decade and count the occurence of a major earthquake (i.e., count the number of organge and red colors in each decade). We have done this for you."
      ]
    },
    {
      "cell_type": "code",
      "execution_count": null,
      "metadata": {
        "id": "hAG4AGTwc7my",
        "colab": {
          "base_uri": "https://localhost:8080/",
          "height": 594
        },
        "outputId": "001f7b9a-e158-428f-afb8-40453ea2d191"
      },
      "outputs": [
        {
          "output_type": "display_data",
          "data": {
            "text/plain": [
              "<Figure size 900x600 with 1 Axes>"
            ],
            "image/png": "[encoded data removed]"
          },
          "metadata": {
            "needs_background": "light"
          }
        }
      ],
      "source": [
        "eq_data = np.array([\n",
        "    0, # 1900-1909\n",
        "    1, # 1910-1919\n",
        "    2, # 1920-1929\n",
        "    0, # 1930-1939\n",
        "    3, # 1940-1949\n",
        "    2, # 1950-1959\n",
        "    1, # 1960-1969\n",
        "    2, # 1970-1979\n",
        "    1, # 1980-1989\n",
        "    4, # 1990-1999\n",
        "    0, # 2000-2009\n",
        "    2 # 2010-2019 \n",
        "])\n",
        "fig, ax = plt.subplots(dpi=150)\n",
        "ax.bar(np.linspace(1900, 2019, eq_data.shape[0]), eq_data, width=10)\n",
        "ax.set_xlabel('Decade')\n",
        "ax.set_ylabel('# of major earthquakes in Southern CA');"
      ]
    },
    {
      "cell_type": "markdown",
      "metadata": {
        "id": "c2CENF_bc7my"
      },
      "source": [
        "B. The [Poisson distribution](https://en.wikipedia.org/wiki/Poisson_distribution) is a discrete distribution with values $\\{0,1,2,\\dots\\}$ which is commonly used to model the number of events occuring in a certain time period.\n",
        "It is the right choice when these events are happening independently and the probability of any event happening over a small period of time is constant.\n",
        "Let's use the Poisson to model the number of earthquakes $X$ occuring in a decade.\n",
        "We write:\n",
        "\n",
        "$$\n",
        "X \\sim \\operatorname{Poisson}(r),\n",
        "$$\n",
        "\n",
        "where $r$ is the *rate parameter* of Poisson.\n",
        "The rate is the number of events per time period.\n",
        "Here, $r$ is the number of earthquakes per decade.\n",
        "Using the data above, we can set the rate as the empirical average of the observed number of earthquakes per decade:"
      ]
    },
    {
      "cell_type": "code",
      "execution_count": null,
      "metadata": {
        "id": "kHElUvB6c7my",
        "colab": {
          "base_uri": "https://localhost:8080/"
        },
        "outputId": "efd06733-f674-4f54-af0c-12a9d53ce00b"
      },
      "outputs": [
        {
          "output_type": "stream",
          "name": "stdout",
          "text": [
            "r = 1.50 major earthquakes per decade\n"
          ]
        }
      ],
      "source": [
        "r = np.mean(eq_data)\n",
        "print('r = {0:1.2f} major earthquakes per decade'.format(r))"
      ]
    },
    {
      "cell_type": "markdown",
      "metadata": {
        "id": "RA7UzU-2c7my"
      },
      "source": [
        "Strictly speaking, **this is not how you should be calibrating models!!!**\n",
        "We will learn about the **right** way (which uses Bayes' rule) in the subsequent lectures.\n",
        "But it will do for now as the answer you would get using the **right** way is, for this problem, almost the same.\n",
        "Let's define a Poisson distribution using ``scipy.stats.poisson`` (see documentation [here](https://docs.scipy.org/doc/scipy/reference/generated/scipy.stats.poisson.html)):"
      ]
    },
    {
      "cell_type": "code",
      "execution_count": null,
      "metadata": {
        "id": "eQCJuVHqc7my"
      },
      "outputs": [],
      "source": [
        "X = st.poisson(r)\n"
      ]
    },
    {
      "cell_type": "markdown",
      "metadata": {
        "id": "vSO8CiNMc7my"
      },
      "source": [
        "A. Plot the probability mass function of ``X``."
      ]
    },
    {
      "cell_type": "code",
      "execution_count": null,
      "metadata": {
        "id": "RlxpEiC0c7my",
        "colab": {
          "base_uri": "https://localhost:8080/",
          "height": 288
        },
        "outputId": "1d98b99d-254d-4522-a86d-4f3844d0cd03"
      },
      "outputs": [
        {
          "output_type": "display_data",
          "data": {
            "text/plain": [
              "<Figure size 432x288 with 1 Axes>"
            ],
            "image/png": "[encoded data removed]"
          },
          "metadata": {
            "needs_background": "light"
          }
        }
      ],
      "source": [
        "# Plotting the PMF of the Poisson Distribution for 1 decade\n",
        "ks = range(7)\n",
        "fig, ax = plt.subplots()\n",
        "ax.bar(ks, X.pmf(ks));\n",
        "ax.set_xlabel('Number of major earthquakes in next 10 years')\n",
        "ax.set_ylabel('Probability of occurance');"
      ]
    },
    {
      "cell_type": "markdown",
      "metadata": {
        "id": "wiJcZDt8c7my"
      },
      "source": [
        "B. What is the probability that at least one major earthquake will occur during the next decade?<br>\n",
        "**Answer:** p = 0.78\n",
        "<br><br><br><br><br><br><br><br>"
      ]
    },
    {
      "cell_type": "code",
      "execution_count": null,
      "metadata": {
        "id": "T8O6quUec7my",
        "colab": {
          "base_uri": "https://localhost:8080/"
        },
        "outputId": "47a8d5a4-d197-448c-ddb7-92fd7851b5a1"
      },
      "outputs": [
        {
          "output_type": "stream",
          "name": "stdout",
          "text": [
            "<class 'numpy.ndarray'>\n",
            "[0.22313016 0.33469524 0.25102143 0.12551072 0.04706652 0.01411996\n",
            " 0.00352999]\n",
            "0.7768698398515702\n",
            "1-p(0) = 0.78\n"
          ]
        }
      ],
      "source": [
        "# Calculating probability of at least one major earthquake\n",
        "prob = X.pmf(ks)\n",
        "print(type(prob))\n",
        "print(prob)\n",
        "\n",
        "# I way overcomplicated it. It should just be 1- p(0) or adding all remaining prob\n",
        "prob_min_one = 1 - prob[0]\n",
        "print(prob_min_one)\n",
        "print(f\"1-p(0) = {round(prob_min_one, 2)}\")"
      ]
    },
    {
      "cell_type": "markdown",
      "metadata": {
        "id": "4j337nP0c7mz"
      },
      "source": [
        "C. What is the probability that at least one major earthquake will occur during the next two decades?\n",
        "\n",
        "> Indented block\n",
        "\n",
        "\n",
        "Hint: Consider two independent and identical copies of $X$, say $X_1$ and $X_2$.\n",
        "And consider their sum $Y = X_1 + X_2$. Read [this](https://en.wikipedia.org/wiki/Poisson_distribution#Sums_of_Poisson-distributed_random_variables) about the sum of two independent Poisson distributions.\n",
        "<br>\n",
        "**Answer:** p = 0.95<br>\n",
        "\n",
        "*Work and PMF shown in code block below*\n",
        "<br><br><br><br><br><br><br><br>"
      ]
    },
    {
      "cell_type": "code",
      "execution_count": null,
      "metadata": {
        "id": "E9OYT6QLc7mz",
        "colab": {
          "base_uri": "https://localhost:8080/",
          "height": 354
        },
        "outputId": "891fa7f5-c85b-40c2-9d87-b63a5a23bf72"
      },
      "outputs": [
        {
          "output_type": "stream",
          "name": "stdout",
          "text": [
            "range(0, 6)\n",
            "[0.04978707 0.14936121 0.22404181 0.22404181 0.16803136 0.10081881]\n",
            "0.950212931632136\n",
            "1-p(0) = 0.95\n"
          ]
        },
        {
          "output_type": "display_data",
          "data": {
            "text/plain": [
              "<Figure size 432x288 with 1 Axes>"
            ],
            "image/png": "[encoded data removed]"
          },
          "metadata": {
            "needs_background": "light"
          }
        }
      ],
      "source": [
        "# You can also answer with code here:\n",
        "# Approach: adjusted lambda to match the number of decades being considered\n",
        "r1 = 1.50\n",
        "decades = 2\n",
        "\n",
        "r12 = r1*decades\n",
        "X12 = st.poisson(r12)\n",
        "\n",
        "xd = range(6)\n",
        "prob20 = X12.pmf(xd)\n",
        "print(xd)\n",
        "print(prob20)\n",
        "\n",
        "fig, ax = plt.subplots()\n",
        "ax.bar(xd, X12.pmf(xd));\n",
        "ax.set_xlabel(f'Number of major earthquakes in next {decades} decades')\n",
        "ax.set_ylabel('Probability of occurance');\n",
        "\n",
        "prob_min_one_20 = 1-prob20[0]\n",
        "print(prob_min_one_20)\n",
        "print(f\"1-p(0) = {round(prob_min_one_20, 2)}\")\n"
      ]
    },
    {
      "cell_type": "markdown",
      "metadata": {
        "id": "p7SQBRG_c7mz"
      },
      "source": [
        "D. What is the probability that at least one major earthquake will occur during the next five decades?<br>\n",
        "**Answer:** p = 0.999 <br>\n",
        "\n",
        "Work and PMF shown in code block below. (Rounded to 3 decimal places)\n",
        "<br><br><br><br><br><br><br><br>"
      ]
    },
    {
      "cell_type": "code",
      "execution_count": null,
      "metadata": {
        "id": "WKDvUDj8c7mz",
        "colab": {
          "base_uri": "https://localhost:8080/",
          "height": 389
        },
        "outputId": "6b560a64-9814-4e2d-8bae-72df9fb1c62c"
      },
      "outputs": [
        {
          "output_type": "stream",
          "name": "stdout",
          "text": [
            "range(0, 15)\n",
            "[0.00055308 0.00414813 0.0155555  0.03888874 0.0729164  0.10937459\n",
            " 0.13671824 0.14648383 0.13732859 0.11444049 0.08583037 0.05852071\n",
            " 0.03657544 0.02110122 0.01130422]\n",
            "0.9994469156298522\n",
            "1-p(0) = 0.999\n"
          ]
        },
        {
          "output_type": "display_data",
          "data": {
            "text/plain": [
              "<Figure size 432x288 with 1 Axes>"
            ],
            "image/png": "[encoded data removed]"
          },
          "metadata": {
            "needs_background": "light"
          }
        }
      ],
      "source": [
        "# You can also answer with code here:\n",
        "#Adjusted lambda for rate across 5 decades \n",
        "decades = 5 \n",
        "r3 = r1*decades \n",
        "\n",
        "X3 = st.poisson(r3)\n",
        "xd3 = range(15)\n",
        "prob50 = X3.pmf(xd3)\n",
        "print(xd3)\n",
        "print(prob50)\n",
        "\n",
        "fig, ax = plt.subplots()\n",
        "ax.bar(xd3, X3.pmf(xd3));\n",
        "ax.set_xlabel(f'Number of major earthquakes in next {decades} decades')\n",
        "ax.set_ylabel('Probability of occurance');\n",
        "\n",
        "prob_min_one_50 = 1-prob50[0]\n",
        "print(prob_min_one_50)\n",
        "print(f\"1-p(0) = {round(prob_min_one_50, 3)}\")\n",
        "\n"
      ]
    },
    {
      "cell_type": "code",
      "source": [
        "!wget -nc https://raw.githubusercontent.com/brpy/colab-pdf/master/colab_pdf.py\n",
        "from colab_pdf import colab_pdf\n",
        "colab_pdf('MihirNadig_homework-01.ipynb')"
      ],
      "metadata": {
        "colab": {
          "base_uri": "https://localhost:8080/",
          "height": 536
        },
        "id": "dj5q1zieD-pj",
        "outputId": "e269e89a-488f-4195-84fa-fd7261153f47"
      },
      "execution_count": null,
      "outputs": [
        {
          "output_type": "stream",
          "name": "stdout",
          "text": [
            "--2022-06-27 01:06:39--  https://raw.githubusercontent.com/brpy/colab-pdf/master/colab_pdf.py\n",
            "Resolving raw.githubusercontent.com (raw.githubusercontent.com)... 185.199.111.133, 185.199.109.133, 185.199.108.133, ...\n",
            "Connecting to raw.githubusercontent.com (raw.githubusercontent.com)|185.199.111.133|:443... connected.\n",
            "HTTP request sent, awaiting response... 200 OK\n",
            "Length: 1864 (1.8K) [text/plain]\n",
            "Saving to: ‘colab_pdf.py’\n",
            "\n",
            "colab_pdf.py        100%[===================>]   1.82K  --.-KB/s    in 0s      \n",
            "\n",
            "2022-06-27 01:06:39 (23.4 MB/s) - ‘colab_pdf.py’ saved [1864/1864]\n",
            "\n"
          ]
        },
        {
          "output_type": "error",
          "ename": "MessageError",
          "evalue": "ignored",
          "traceback": [
            "\u001b[0;31m---------------------------------------------------------------------------\u001b[0m",
            "\u001b[0;31mMessageError\u001b[0m                              Traceback (most recent call last)",
            "\u001b[0;32m<ipython-input-16-6256b23b0cc0>\u001b[0m in \u001b[0;36m<module>\u001b[0;34m()\u001b[0m\n\u001b[1;32m      1\u001b[0m \u001b[0mget_ipython\u001b[0m\u001b[0;34m(\u001b[0m\u001b[0;34m)\u001b[0m\u001b[0;34m.\u001b[0m\u001b[0msystem\u001b[0m\u001b[0;34m(\u001b[0m\u001b[0;34m'wget -nc https://raw.githubusercontent.com/brpy/colab-pdf/master/colab_pdf.py'\u001b[0m\u001b[0;34m)\u001b[0m\u001b[0;34m\u001b[0m\u001b[0;34m\u001b[0m\u001b[0m\n\u001b[1;32m      2\u001b[0m \u001b[0;32mfrom\u001b[0m \u001b[0mcolab_pdf\u001b[0m \u001b[0;32mimport\u001b[0m \u001b[0mcolab_pdf\u001b[0m\u001b[0;34m\u001b[0m\u001b[0;34m\u001b[0m\u001b[0m\n\u001b[0;32m----> 3\u001b[0;31m \u001b[0mcolab_pdf\u001b[0m\u001b[0;34m(\u001b[0m\u001b[0;34m'MihirNadig_homework-01.ipynb'\u001b[0m\u001b[0;34m)\u001b[0m\u001b[0;34m\u001b[0m\u001b[0;34m\u001b[0m\u001b[0m\n\u001b[0m",
            "\u001b[0;32m/content/colab_pdf.py\u001b[0m in \u001b[0;36mcolab_pdf\u001b[0;34m(file_name, notebookpath)\u001b[0m\n\u001b[1;32m     16\u001b[0m         \u001b[0;32mfrom\u001b[0m \u001b[0mgoogle\u001b[0m\u001b[0;34m.\u001b[0m\u001b[0mcolab\u001b[0m \u001b[0;32mimport\u001b[0m \u001b[0mdrive\u001b[0m\u001b[0;34m\u001b[0m\u001b[0;34m\u001b[0m\u001b[0m\n\u001b[1;32m     17\u001b[0m \u001b[0;34m\u001b[0m\u001b[0m\n\u001b[0;32m---> 18\u001b[0;31m         \u001b[0mdrive\u001b[0m\u001b[0;34m.\u001b[0m\u001b[0mmount\u001b[0m\u001b[0;34m(\u001b[0m\u001b[0mdrive_mount_point\u001b[0m\u001b[0;34m)\u001b[0m\u001b[0;34m\u001b[0m\u001b[0;34m\u001b[0m\u001b[0m\n\u001b[0m\u001b[1;32m     19\u001b[0m \u001b[0;34m\u001b[0m\u001b[0m\n\u001b[1;32m     20\u001b[0m     \u001b[0;31m# Check if the notebook exists in the Drive.\u001b[0m\u001b[0;34m\u001b[0m\u001b[0;34m\u001b[0m\u001b[0;34m\u001b[0m\u001b[0m\n",
            "\u001b[0;32m/usr/local/lib/python3.7/dist-packages/google/colab/drive.py\u001b[0m in \u001b[0;36mmount\u001b[0;34m(mountpoint, force_remount, timeout_ms)\u001b[0m\n\u001b[1;32m    107\u001b[0m       \u001b[0mforce_remount\u001b[0m\u001b[0;34m=\u001b[0m\u001b[0mforce_remount\u001b[0m\u001b[0;34m,\u001b[0m\u001b[0;34m\u001b[0m\u001b[0;34m\u001b[0m\u001b[0m\n\u001b[1;32m    108\u001b[0m       \u001b[0mtimeout_ms\u001b[0m\u001b[0;34m=\u001b[0m\u001b[0mtimeout_ms\u001b[0m\u001b[0;34m,\u001b[0m\u001b[0;34m\u001b[0m\u001b[0;34m\u001b[0m\u001b[0m\n\u001b[0;32m--> 109\u001b[0;31m       ephemeral=True)\n\u001b[0m\u001b[1;32m    110\u001b[0m \u001b[0;34m\u001b[0m\u001b[0m\n\u001b[1;32m    111\u001b[0m \u001b[0;34m\u001b[0m\u001b[0m\n",
            "\u001b[0;32m/usr/local/lib/python3.7/dist-packages/google/colab/drive.py\u001b[0m in \u001b[0;36m_mount\u001b[0;34m(mountpoint, force_remount, timeout_ms, ephemeral)\u001b[0m\n\u001b[1;32m    122\u001b[0m   \u001b[0;32mif\u001b[0m \u001b[0mephemeral\u001b[0m\u001b[0;34m:\u001b[0m\u001b[0;34m\u001b[0m\u001b[0;34m\u001b[0m\u001b[0m\n\u001b[1;32m    123\u001b[0m     _message.blocking_request(\n\u001b[0;32m--> 124\u001b[0;31m         'request_auth', request={'authType': 'dfs_ephemeral'}, timeout_sec=None)\n\u001b[0m\u001b[1;32m    125\u001b[0m \u001b[0;34m\u001b[0m\u001b[0m\n\u001b[1;32m    126\u001b[0m   \u001b[0mmountpoint\u001b[0m \u001b[0;34m=\u001b[0m \u001b[0m_os\u001b[0m\u001b[0;34m.\u001b[0m\u001b[0mpath\u001b[0m\u001b[0;34m.\u001b[0m\u001b[0mexpanduser\u001b[0m\u001b[0;34m(\u001b[0m\u001b[0mmountpoint\u001b[0m\u001b[0;34m)\u001b[0m\u001b[0;34m\u001b[0m\u001b[0;34m\u001b[0m\u001b[0m\n",
            "\u001b[0;32m/usr/local/lib/python3.7/dist-packages/google/colab/_message.py\u001b[0m in \u001b[0;36mblocking_request\u001b[0;34m(request_type, request, timeout_sec, parent)\u001b[0m\n\u001b[1;32m    173\u001b[0m   request_id = send_request(\n\u001b[1;32m    174\u001b[0m       request_type, request, parent=parent, expect_reply=True)\n\u001b[0;32m--> 175\u001b[0;31m   \u001b[0;32mreturn\u001b[0m \u001b[0mread_reply_from_input\u001b[0m\u001b[0;34m(\u001b[0m\u001b[0mrequest_id\u001b[0m\u001b[0;34m,\u001b[0m \u001b[0mtimeout_sec\u001b[0m\u001b[0;34m)\u001b[0m\u001b[0;34m\u001b[0m\u001b[0;34m\u001b[0m\u001b[0m\n\u001b[0m",
            "\u001b[0;32m/usr/local/lib/python3.7/dist-packages/google/colab/_message.py\u001b[0m in \u001b[0;36mread_reply_from_input\u001b[0;34m(message_id, timeout_sec)\u001b[0m\n\u001b[1;32m    104\u001b[0m         reply.get('colab_msg_id') == message_id):\n\u001b[1;32m    105\u001b[0m       \u001b[0;32mif\u001b[0m \u001b[0;34m'error'\u001b[0m \u001b[0;32min\u001b[0m \u001b[0mreply\u001b[0m\u001b[0;34m:\u001b[0m\u001b[0;34m\u001b[0m\u001b[0;34m\u001b[0m\u001b[0m\n\u001b[0;32m--> 106\u001b[0;31m         \u001b[0;32mraise\u001b[0m \u001b[0mMessageError\u001b[0m\u001b[0;34m(\u001b[0m\u001b[0mreply\u001b[0m\u001b[0;34m[\u001b[0m\u001b[0;34m'error'\u001b[0m\u001b[0;34m]\u001b[0m\u001b[0;34m)\u001b[0m\u001b[0;34m\u001b[0m\u001b[0;34m\u001b[0m\u001b[0m\n\u001b[0m\u001b[1;32m    107\u001b[0m       \u001b[0;32mreturn\u001b[0m \u001b[0mreply\u001b[0m\u001b[0;34m.\u001b[0m\u001b[0mget\u001b[0m\u001b[0;34m(\u001b[0m\u001b[0;34m'data'\u001b[0m\u001b[0;34m,\u001b[0m \u001b[0;32mNone\u001b[0m\u001b[0;34m)\u001b[0m\u001b[0;34m\u001b[0m\u001b[0;34m\u001b[0m\u001b[0m\n\u001b[1;32m    108\u001b[0m \u001b[0;34m\u001b[0m\u001b[0m\n",
            "\u001b[0;31mMessageError\u001b[0m: Error: credential propagation was unsuccessful"
          ]
        }
      ]
    }
  ],
  "metadata": {
    "celltoolbar": "Tags",
    "kernelspec": {
      "display_name": "Python 3 (ipykernel)",
      "language": "python",
      "name": "python3"
    },
    "language_info": {
      "codemirror_mode": {
        "name": "ipython",
        "version": 3
      },
      "file_extension": ".py",
      "mimetype": "text/x-python",
      "name": "python",
      "nbconvert_exporter": "python",
      "pygments_lexer": "ipython3",
      "version": "3.9.12"
    },
    "colab": {
      "provenance": []
    }
  },
  "nbformat": 4,
  "nbformat_minor": 0
}